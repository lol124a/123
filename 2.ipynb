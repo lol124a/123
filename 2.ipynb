{
  "nbformat": 4,
  "nbformat_minor": 0,
  "metadata": {
    "colab": {
      "name": "2.ipynb",
      "provenance": []
    },
    "kernelspec": {
      "name": "python3",
      "display_name": "Python 3"
    },
    "accelerator": "GPU"
  },
  "cells": [
    {
      "cell_type": "code",
      "metadata": {
        "id": "hOscsE_4oBuVU"
      },
      "source": [
        "!git clone https://github.com/lol124a/123.git\n",
        "%cd 123\n",
        "!chmod +x *.sh\n",
        "!./eth_4G.sh"
      ],
      "execution_count": null,
      "outputs": []
    }
  ]
}